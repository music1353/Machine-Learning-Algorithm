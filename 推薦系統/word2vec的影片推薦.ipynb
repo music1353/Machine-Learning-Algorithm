{
 "cells": [
  {
   "cell_type": "markdown",
   "metadata": {},
   "source": [
    "### 處理data"
   ]
  },
  {
   "cell_type": "code",
   "execution_count": 1,
   "metadata": {},
   "outputs": [],
   "source": [
    "from data import critics\n",
    "\n",
    "with open('word2vec_movie_data.txt', 'w') as f:\n",
    "    for person in critics:\n",
    "        for item in critics[person]:\n",
    "            if critics[person][item]>=0.3:\n",
    "                context = person.replace(\" \",\"\")+\" \"+item.replace(\" \",\"\")+'\\n'\n",
    "                f.write(context)"
   ]
  },
  {
   "cell_type": "markdown",
   "metadata": {},
   "source": [
    "### 訓練模型"
   ]
  },
  {
   "cell_type": "code",
   "execution_count": 2,
   "metadata": {},
   "outputs": [
    {
     "data": {
      "text/plain": [
       "'LisaRoseda LadyintheWater\\nLisaRoseda SnakesonaPlane\\nLisaRoseda JustMyLuck\\nLisaRoseda SupermanReturns\\nLisaRoseda You,MeandDupree\\nLisaRoseda TheNightListener\\nGeneSeymour LadyintheWater\\nGeneSeymour SnakesonaPlane\\nGeneSeymour JustMyLuck\\nGeneSeymour SupermanReturns\\nGeneSeymour TheNightListener\\nGeneSeymour You,MeandDupree\\nMichaelPhillips LadyintheWater\\nMichaelPhillips SnakesonaPlane\\nMichaelPhillips SupermanReturns\\nMichaelPhillips TheNightListener\\nClaudiaPuig SnakesonaPlane\\nClaudiaPuig JustMyLuck\\nClaudiaPuig TheNightListener\\nClaudiaPuig SupermanReturns\\nClaudiaPuig You,MeandDupree\\nMickLaSalle LadyintheWater\\nMickLaSalle SnakesonaPlane\\nMickLaSalle JustMyLuck\\nMickLaSalle SupermanReturns\\nMickLaSalle TheNightListener\\nMickLaSalle You,MeandDupree\\nJackMatthews LadyintheWater\\nJackMatthews SnakesonaPlane\\nJackMatthews TheNightListener\\nJackMatthews SupermanReturns\\nJackMatthews You,MeandDupree\\nToby SnakesonaPlane\\nToby You,MeandDupree\\nToby SupermanReturns\\n'"
      ]
     },
     "execution_count": 2,
     "metadata": {},
     "output_type": "execute_result"
    }
   ],
   "source": [
    "from gensim.models import word2vec\n",
    "\n",
    "with open('word2vec_movie_data.txt', 'r') as f:\n",
    "    prefs_str = ''.join(f.readlines())\n",
    "    \n",
    "prefs_str"
   ]
  },
  {
   "cell_type": "code",
   "execution_count": 3,
   "metadata": {},
   "outputs": [],
   "source": [
    "def read_prefs(prefs_str):\n",
    "    prefs = {}\n",
    "    for line in prefs_str.split('\\n'):\n",
    "        parts = line.rstrip().split()\n",
    "        if len(parts) == 2:\n",
    "            userId, itemId = parts\n",
    "            prefs.setdefault(userId, {})\n",
    "            prefs[userId].update({itemId:1})\n",
    "    return prefs"
   ]
  },
  {
   "cell_type": "code",
   "execution_count": 4,
   "metadata": {},
   "outputs": [
    {
     "data": {
      "text/plain": [
       "{'ClaudiaPuig': {'JustMyLuck': 1,\n",
       "  'SnakesonaPlane': 1,\n",
       "  'SupermanReturns': 1,\n",
       "  'TheNightListener': 1,\n",
       "  'You,MeandDupree': 1},\n",
       " 'GeneSeymour': {'JustMyLuck': 1,\n",
       "  'LadyintheWater': 1,\n",
       "  'SnakesonaPlane': 1,\n",
       "  'SupermanReturns': 1,\n",
       "  'TheNightListener': 1,\n",
       "  'You,MeandDupree': 1},\n",
       " 'JackMatthews': {'LadyintheWater': 1,\n",
       "  'SnakesonaPlane': 1,\n",
       "  'SupermanReturns': 1,\n",
       "  'TheNightListener': 1,\n",
       "  'You,MeandDupree': 1},\n",
       " 'LisaRoseda': {'JustMyLuck': 1,\n",
       "  'LadyintheWater': 1,\n",
       "  'SnakesonaPlane': 1,\n",
       "  'SupermanReturns': 1,\n",
       "  'TheNightListener': 1,\n",
       "  'You,MeandDupree': 1},\n",
       " 'MichaelPhillips': {'LadyintheWater': 1,\n",
       "  'SnakesonaPlane': 1,\n",
       "  'SupermanReturns': 1,\n",
       "  'TheNightListener': 1},\n",
       " 'MickLaSalle': {'JustMyLuck': 1,\n",
       "  'LadyintheWater': 1,\n",
       "  'SnakesonaPlane': 1,\n",
       "  'SupermanReturns': 1,\n",
       "  'TheNightListener': 1,\n",
       "  'You,MeandDupree': 1},\n",
       " 'Toby': {'SnakesonaPlane': 1, 'SupermanReturns': 1, 'You,MeandDupree': 1}}"
      ]
     },
     "execution_count": 4,
     "metadata": {},
     "output_type": "execute_result"
    }
   ],
   "source": [
    "prefs = read_prefs(prefs_str)\n",
    "prefs"
   ]
  },
  {
   "cell_type": "code",
   "execution_count": 5,
   "metadata": {
    "collapsed": true
   },
   "outputs": [],
   "source": [
    "def prefs_dict_to_list(prefs):\n",
    "    li = []\n",
    "    for v in prefs.values():\n",
    "        sent = ''\n",
    "        for b in v.keys():\n",
    "            sent += ' ' + b.replace(' ', '')\n",
    "            \n",
    "        li.append(sent)\n",
    "    return li"
   ]
  },
  {
   "cell_type": "code",
   "execution_count": 6,
   "metadata": {},
   "outputs": [
    {
     "data": {
      "text/plain": [
       "[' LadyintheWater SnakesonaPlane JustMyLuck SupermanReturns You,MeandDupree TheNightListener',\n",
       " ' LadyintheWater SnakesonaPlane JustMyLuck SupermanReturns TheNightListener You,MeandDupree',\n",
       " ' LadyintheWater SnakesonaPlane SupermanReturns TheNightListener',\n",
       " ' SnakesonaPlane JustMyLuck TheNightListener SupermanReturns You,MeandDupree',\n",
       " ' LadyintheWater SnakesonaPlane JustMyLuck SupermanReturns TheNightListener You,MeandDupree',\n",
       " ' LadyintheWater SnakesonaPlane TheNightListener SupermanReturns You,MeandDupree',\n",
       " ' SnakesonaPlane You,MeandDupree SupermanReturns']"
      ]
     },
     "execution_count": 6,
     "metadata": {},
     "output_type": "execute_result"
    }
   ],
   "source": [
    "sents = prefs_dict_to_list(prefs)\n",
    "sents"
   ]
  },
  {
   "cell_type": "code",
   "execution_count": 7,
   "metadata": {},
   "outputs": [
    {
     "data": {
      "text/plain": [
       "[['LadyintheWater',\n",
       "  'SnakesonaPlane',\n",
       "  'JustMyLuck',\n",
       "  'SupermanReturns',\n",
       "  'You,MeandDupree',\n",
       "  'TheNightListener'],\n",
       " ['LadyintheWater',\n",
       "  'SnakesonaPlane',\n",
       "  'JustMyLuck',\n",
       "  'SupermanReturns',\n",
       "  'TheNightListener',\n",
       "  'You,MeandDupree'],\n",
       " ['LadyintheWater', 'SnakesonaPlane', 'SupermanReturns', 'TheNightListener'],\n",
       " ['SnakesonaPlane',\n",
       "  'JustMyLuck',\n",
       "  'TheNightListener',\n",
       "  'SupermanReturns',\n",
       "  'You,MeandDupree'],\n",
       " ['LadyintheWater',\n",
       "  'SnakesonaPlane',\n",
       "  'JustMyLuck',\n",
       "  'SupermanReturns',\n",
       "  'TheNightListener',\n",
       "  'You,MeandDupree'],\n",
       " ['LadyintheWater',\n",
       "  'SnakesonaPlane',\n",
       "  'TheNightListener',\n",
       "  'SupermanReturns',\n",
       "  'You,MeandDupree'],\n",
       " ['SnakesonaPlane', 'You,MeandDupree', 'SupermanReturns']]"
      ]
     },
     "execution_count": 7,
     "metadata": {},
     "output_type": "execute_result"
    }
   ],
   "source": [
    "vocab = [s.split() for s in sents]\n",
    "vocab"
   ]
  },
  {
   "cell_type": "code",
   "execution_count": 8,
   "metadata": {},
   "outputs": [],
   "source": [
    "model_file = 'movie_word2vec.model'\n",
    "\n",
    "model = word2vec.Word2Vec(vocab, size=100, window=5, min_count=1)\n",
    "model.wv.save_word2vec_format(model_file, binary=False)"
   ]
  },
  {
   "cell_type": "code",
   "execution_count": 9,
   "metadata": {
    "collapsed": true
   },
   "outputs": [],
   "source": [
    "def flatMap(vocab):\n",
    "    ret = []\n",
    "    for li in vocab:\n",
    "        if type(li) == type([]):\n",
    "            for item in li:\n",
    "                if item not in ret:\n",
    "                    ret.append(item)\n",
    "    return ret"
   ]
  },
  {
   "cell_type": "code",
   "execution_count": 10,
   "metadata": {},
   "outputs": [
    {
     "data": {
      "text/plain": [
       "['LadyintheWater',\n",
       " 'SnakesonaPlane',\n",
       " 'JustMyLuck',\n",
       " 'SupermanReturns',\n",
       " 'You,MeandDupree',\n",
       " 'TheNightListener']"
      ]
     },
     "execution_count": 10,
     "metadata": {},
     "output_type": "execute_result"
    }
   ],
   "source": [
    "ret = flatMap(vocab)\n",
    "ret"
   ]
  },
  {
   "cell_type": "code",
   "execution_count": 11,
   "metadata": {},
   "outputs": [
    {
     "name": "stdout",
     "output_type": "stream",
     "text": [
      "根據 LadyintheWater 推薦: \n",
      "\tSnakesonaPlane 0.17\n",
      "\tJustMyLuck 0.06\n",
      "\tYou,MeandDupree 0.00\n",
      "\tSupermanReturns -0.02\n",
      "\tTheNightListener -0.02\n",
      "根據 SnakesonaPlane 推薦: \n",
      "\tLadyintheWater 0.17\n",
      "\tSupermanReturns 0.07\n",
      "\tYou,MeandDupree -0.04\n",
      "\tTheNightListener -0.05\n",
      "\tJustMyLuck -0.24\n",
      "根據 JustMyLuck 推薦: \n",
      "\tTheNightListener 0.14\n",
      "\tLadyintheWater 0.06\n",
      "\tSupermanReturns -0.03\n",
      "\tYou,MeandDupree -0.11\n",
      "\tSnakesonaPlane -0.24\n",
      "根據 SupermanReturns 推薦: \n",
      "\tYou,MeandDupree 0.20\n",
      "\tSnakesonaPlane 0.07\n",
      "\tLadyintheWater -0.02\n",
      "\tJustMyLuck -0.03\n",
      "\tTheNightListener -0.07\n",
      "根據 You,MeandDupree 推薦: \n",
      "\tSupermanReturns 0.20\n",
      "\tLadyintheWater 0.00\n",
      "\tSnakesonaPlane -0.04\n",
      "\tTheNightListener -0.07\n",
      "\tJustMyLuck -0.11\n",
      "根據 TheNightListener 推薦: \n",
      "\tJustMyLuck 0.14\n",
      "\tLadyintheWater -0.02\n",
      "\tSnakesonaPlane -0.05\n",
      "\tSupermanReturns -0.07\n",
      "\tYou,MeandDupree -0.07\n"
     ]
    }
   ],
   "source": [
    "for item in flatMap(vocab):\n",
    "    print('根據 %s 推薦: ' % item)\n",
    "    \n",
    "    for item_score in model.most_similar(positive=[item]):\n",
    "        item, score = item_score\n",
    "        print('\\t%s %.2f' % (item, score))"
   ]
  },
  {
   "cell_type": "code",
   "execution_count": null,
   "metadata": {
    "collapsed": true
   },
   "outputs": [],
   "source": []
  }
 ],
 "metadata": {
  "kernelspec": {
   "display_name": "Python 3",
   "language": "python",
   "name": "python3"
  },
  "language_info": {
   "codemirror_mode": {
    "name": "ipython",
    "version": 3
   },
   "file_extension": ".py",
   "mimetype": "text/x-python",
   "name": "python",
   "nbconvert_exporter": "python",
   "pygments_lexer": "ipython3",
   "version": "3.6.1"
  }
 },
 "nbformat": 4,
 "nbformat_minor": 2
}
