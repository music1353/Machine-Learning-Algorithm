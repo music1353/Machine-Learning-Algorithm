{
 "cells": [
  {
   "cell_type": "code",
   "execution_count": 1,
   "metadata": {},
   "outputs": [
    {
     "name": "stderr",
     "output_type": "stream",
     "text": [
      "/anaconda/lib/python3.6/site-packages/surprise/evaluate.py:66: UserWarning: The evaluate() method is deprecated. Please use model_selection.cross_validate() instead.\n",
      "  'model_selection.cross_validate() instead.', UserWarning)\n",
      "/anaconda/lib/python3.6/site-packages/surprise/dataset.py:193: UserWarning: Using data.split() or using load_from_folds() without using a CV iterator is now deprecated. \n",
      "  UserWarning)\n"
     ]
    },
    {
     "name": "stdout",
     "output_type": "stream",
     "text": [
      "Evaluating RMSE, MAE of algorithm KNNBasic.\n",
      "\n",
      "------------\n",
      "Fold 1\n",
      "Computing the msd similarity matrix...\n",
      "Done computing similarity matrix.\n",
      "RMSE: 0.9860\n",
      "MAE:  0.7813\n",
      "------------\n",
      "Fold 2\n",
      "Computing the msd similarity matrix...\n",
      "Done computing similarity matrix.\n",
      "RMSE: 0.9817\n",
      "MAE:  0.7751\n",
      "------------\n",
      "Fold 3\n",
      "Computing the msd similarity matrix...\n",
      "Done computing similarity matrix.\n",
      "RMSE: 0.9967\n",
      "MAE:  0.7878\n",
      "------------\n",
      "------------\n",
      "Mean RMSE: 0.9881\n",
      "Mean MAE : 0.7814\n",
      "------------\n",
      "------------\n",
      "        Fold 1  Fold 2  Fold 3  Mean    \n",
      "RMSE    0.9860  0.9817  0.9967  0.9881  \n",
      "MAE     0.7813  0.7751  0.7878  0.7814  \n"
     ]
    }
   ],
   "source": [
    "# 使用movielens數據集\n",
    "\n",
    "from surprise import KNNBasic, SVD\n",
    "from surprise import Dataset\n",
    "from surprise import evaluate, print_perf\n",
    "\n",
    "# Load the movielens-100k dataset (download it if need)\n",
    "# and split it into 3 folds for cross-validation\n",
    "data = Dataset.load_builtin('ml-100k')\n",
    "data.split(n_folds=3)\n",
    "\n",
    "# use KNNBasic algorithm(協同過濾)\n",
    "algo = KNNBasic()\n",
    "\n",
    "# Evaluate performances of our algorithm on the dataset\n",
    "perf = evaluate(algo, data, measures=['RMSE', 'MAE'])\n",
    "\n",
    "print_perf(perf)"
   ]
  },
  {
   "cell_type": "code",
   "execution_count": 2,
   "metadata": {},
   "outputs": [
    {
     "name": "stderr",
     "output_type": "stream",
     "text": [
      "/anaconda/lib/python3.6/site-packages/surprise/evaluate.py:232: UserWarning: The GridSearch() class is deprecated. Please use model_selection.GridSearchCV instead.\n",
      "  'model_selection.GridSearchCV instead.', UserWarning)\n"
     ]
    },
    {
     "name": "stdout",
     "output_type": "stream",
     "text": [
      "Running grid search for the following parameter combinations:\n",
      "{'n_epochs': 5, 'lr_all': 0.002, 'reg_all': 0.4}\n",
      "{'n_epochs': 5, 'lr_all': 0.002, 'reg_all': 0.6}\n",
      "{'n_epochs': 5, 'lr_all': 0.005, 'reg_all': 0.4}\n",
      "{'n_epochs': 5, 'lr_all': 0.005, 'reg_all': 0.6}\n",
      "{'n_epochs': 10, 'lr_all': 0.002, 'reg_all': 0.4}\n",
      "{'n_epochs': 10, 'lr_all': 0.002, 'reg_all': 0.6}\n",
      "{'n_epochs': 10, 'lr_all': 0.005, 'reg_all': 0.4}\n",
      "{'n_epochs': 10, 'lr_all': 0.005, 'reg_all': 0.6}\n"
     ]
    },
    {
     "name": "stderr",
     "output_type": "stream",
     "text": [
      "/anaconda/lib/python3.6/site-packages/surprise/evaluate.py:66: UserWarning: The evaluate() method is deprecated. Please use model_selection.cross_validate() instead.\n",
      "  'model_selection.cross_validate() instead.', UserWarning)\n",
      "/anaconda/lib/python3.6/site-packages/surprise/dataset.py:193: UserWarning: Using data.split() or using load_from_folds() without using a CV iterator is now deprecated. \n",
      "  UserWarning)\n",
      "/anaconda/lib/python3.6/site-packages/surprise/evaluate.py:66: UserWarning: The evaluate() method is deprecated. Please use model_selection.cross_validate() instead.\n",
      "  'model_selection.cross_validate() instead.', UserWarning)\n",
      "/anaconda/lib/python3.6/site-packages/surprise/dataset.py:193: UserWarning: Using data.split() or using load_from_folds() without using a CV iterator is now deprecated. \n",
      "  UserWarning)\n",
      "/anaconda/lib/python3.6/site-packages/surprise/evaluate.py:66: UserWarning: The evaluate() method is deprecated. Please use model_selection.cross_validate() instead.\n",
      "  'model_selection.cross_validate() instead.', UserWarning)\n",
      "/anaconda/lib/python3.6/site-packages/surprise/dataset.py:193: UserWarning: Using data.split() or using load_from_folds() without using a CV iterator is now deprecated. \n",
      "  UserWarning)\n",
      "/anaconda/lib/python3.6/site-packages/surprise/evaluate.py:66: UserWarning: The evaluate() method is deprecated. Please use model_selection.cross_validate() instead.\n",
      "  'model_selection.cross_validate() instead.', UserWarning)\n",
      "/anaconda/lib/python3.6/site-packages/surprise/dataset.py:193: UserWarning: Using data.split() or using load_from_folds() without using a CV iterator is now deprecated. \n",
      "  UserWarning)\n"
     ]
    },
    {
     "name": "stdout",
     "output_type": "stream",
     "text": [
      "Resulsts:\n",
      "{'n_epochs': 5, 'lr_all': 0.002, 'reg_all': 0.4}\n",
      "{'RMSE': 0.99716259717048483, 'FCP': 0.68395821875349549}\n",
      "----------\n",
      "{'n_epochs': 5, 'lr_all': 0.002, 'reg_all': 0.6}\n",
      "{'RMSE': 1.0032636390693888, 'FCP': 0.68668470289303662}\n",
      "----------\n",
      "{'n_epochs': 5, 'lr_all': 0.005, 'reg_all': 0.4}\n",
      "{'RMSE': 0.9735888606178883, 'FCP': 0.69462933940887694}\n",
      "----------\n",
      "{'n_epochs': 5, 'lr_all': 0.005, 'reg_all': 0.6}\n",
      "{'RMSE': 0.9823400741837881, 'FCP': 0.69543242031508734}\n",
      "----------\n",
      "{'n_epochs': 10, 'lr_all': 0.002, 'reg_all': 0.4}\n",
      "{'RMSE': 0.977912390413051, 'FCP': 0.69301935358231692}\n",
      "----------\n",
      "{'n_epochs': 10, 'lr_all': 0.002, 'reg_all': 0.6}\n",
      "{'RMSE': 0.98608479433042318, 'FCP': 0.69396866273192759}\n",
      "----------\n",
      "{'n_epochs': 10, 'lr_all': 0.005, 'reg_all': 0.4}\n",
      "{'RMSE': 0.96370500486701161, 'FCP': 0.69880576174198328}\n",
      "----------\n",
      "{'n_epochs': 10, 'lr_all': 0.005, 'reg_all': 0.6}\n",
      "{'RMSE': 0.97355008552714217, 'FCP': 0.69901571453127698}\n",
      "----------\n"
     ]
    }
   ],
   "source": [
    "from surprise import GridSearch\n",
    "\n",
    "param_grid = {'n_epochs': [5, 10], 'lr_all': [0.002, 0.005],\n",
    "              'reg_all': [0.4, 0.6]}\n",
    "grid_search = GridSearch(SVD, param_grid, measures=['RMSE', 'FCP'])\n",
    "data = Dataset.load_builtin('ml-100k')\n",
    "data.split(n_folds=3)\n",
    "\n",
    "grid_search.evaluate(data)"
   ]
  },
  {
   "cell_type": "code",
   "execution_count": 3,
   "metadata": {},
   "outputs": [
    {
     "name": "stdout",
     "output_type": "stream",
     "text": [
      "0.963705004867\n",
      "{'n_epochs': 10, 'lr_all': 0.005, 'reg_all': 0.4}\n",
      "0.699015714531\n",
      "{'n_epochs': 10, 'lr_all': 0.005, 'reg_all': 0.6}\n"
     ]
    }
   ],
   "source": [
    "# best RMSE score\n",
    "print(grid_search.best_score['RMSE'])\n",
    "\n",
    "# combination of parameters that gave the best RMSE score\n",
    "print(grid_search.best_params['RMSE'])\n",
    "\n",
    "# best FCP score\n",
    "print(grid_search.best_score['FCP'])\n",
    "\n",
    "# combination of parameters that gave the best FCP score\n",
    "print(grid_search.best_params['FCP'])"
   ]
  },
  {
   "cell_type": "code",
   "execution_count": 4,
   "metadata": {},
   "outputs": [
    {
     "data": {
      "text/html": [
       "<div>\n",
       "<style>\n",
       "    .dataframe thead tr:only-child th {\n",
       "        text-align: right;\n",
       "    }\n",
       "\n",
       "    .dataframe thead th {\n",
       "        text-align: left;\n",
       "    }\n",
       "\n",
       "    .dataframe tbody tr th {\n",
       "        vertical-align: top;\n",
       "    }\n",
       "</style>\n",
       "<table border=\"1\" class=\"dataframe\">\n",
       "  <thead>\n",
       "    <tr style=\"text-align: right;\">\n",
       "      <th></th>\n",
       "      <th>params</th>\n",
       "      <th>scores</th>\n",
       "    </tr>\n",
       "  </thead>\n",
       "  <tbody>\n",
       "    <tr>\n",
       "      <th>0</th>\n",
       "      <td>{'n_epochs': 5, 'lr_all': 0.002, 'reg_all': 0.4}</td>\n",
       "      <td>{'RMSE': 0.99716259717, 'FCP': 0.683958218753}</td>\n",
       "    </tr>\n",
       "    <tr>\n",
       "      <th>1</th>\n",
       "      <td>{'n_epochs': 5, 'lr_all': 0.002, 'reg_all': 0.6}</td>\n",
       "      <td>{'RMSE': 1.00326363907, 'FCP': 0.686684702893}</td>\n",
       "    </tr>\n",
       "    <tr>\n",
       "      <th>2</th>\n",
       "      <td>{'n_epochs': 5, 'lr_all': 0.005, 'reg_all': 0.4}</td>\n",
       "      <td>{'RMSE': 0.973588860618, 'FCP': 0.694629339409}</td>\n",
       "    </tr>\n",
       "    <tr>\n",
       "      <th>3</th>\n",
       "      <td>{'n_epochs': 5, 'lr_all': 0.005, 'reg_all': 0.6}</td>\n",
       "      <td>{'RMSE': 0.982340074184, 'FCP': 0.695432420315}</td>\n",
       "    </tr>\n",
       "    <tr>\n",
       "      <th>4</th>\n",
       "      <td>{'n_epochs': 10, 'lr_all': 0.002, 'reg_all': 0.4}</td>\n",
       "      <td>{'RMSE': 0.977912390413, 'FCP': 0.693019353582}</td>\n",
       "    </tr>\n",
       "    <tr>\n",
       "      <th>5</th>\n",
       "      <td>{'n_epochs': 10, 'lr_all': 0.002, 'reg_all': 0.6}</td>\n",
       "      <td>{'RMSE': 0.98608479433, 'FCP': 0.693968662732}</td>\n",
       "    </tr>\n",
       "    <tr>\n",
       "      <th>6</th>\n",
       "      <td>{'n_epochs': 10, 'lr_all': 0.005, 'reg_all': 0.4}</td>\n",
       "      <td>{'RMSE': 0.963705004867, 'FCP': 0.698805761742}</td>\n",
       "    </tr>\n",
       "    <tr>\n",
       "      <th>7</th>\n",
       "      <td>{'n_epochs': 10, 'lr_all': 0.005, 'reg_all': 0.6}</td>\n",
       "      <td>{'RMSE': 0.973550085527, 'FCP': 0.699015714531}</td>\n",
       "    </tr>\n",
       "  </tbody>\n",
       "</table>\n",
       "</div>"
      ],
      "text/plain": [
       "                                              params  \\\n",
       "0   {'n_epochs': 5, 'lr_all': 0.002, 'reg_all': 0.4}   \n",
       "1   {'n_epochs': 5, 'lr_all': 0.002, 'reg_all': 0.6}   \n",
       "2   {'n_epochs': 5, 'lr_all': 0.005, 'reg_all': 0.4}   \n",
       "3   {'n_epochs': 5, 'lr_all': 0.005, 'reg_all': 0.6}   \n",
       "4  {'n_epochs': 10, 'lr_all': 0.002, 'reg_all': 0.4}   \n",
       "5  {'n_epochs': 10, 'lr_all': 0.002, 'reg_all': 0.6}   \n",
       "6  {'n_epochs': 10, 'lr_all': 0.005, 'reg_all': 0.4}   \n",
       "7  {'n_epochs': 10, 'lr_all': 0.005, 'reg_all': 0.6}   \n",
       "\n",
       "                                            scores  \n",
       "0   {'RMSE': 0.99716259717, 'FCP': 0.683958218753}  \n",
       "1   {'RMSE': 1.00326363907, 'FCP': 0.686684702893}  \n",
       "2  {'RMSE': 0.973588860618, 'FCP': 0.694629339409}  \n",
       "3  {'RMSE': 0.982340074184, 'FCP': 0.695432420315}  \n",
       "4  {'RMSE': 0.977912390413, 'FCP': 0.693019353582}  \n",
       "5   {'RMSE': 0.98608479433, 'FCP': 0.693968662732}  \n",
       "6  {'RMSE': 0.963705004867, 'FCP': 0.698805761742}  \n",
       "7  {'RMSE': 0.973550085527, 'FCP': 0.699015714531}  "
      ]
     },
     "execution_count": 4,
     "metadata": {},
     "output_type": "execute_result"
    }
   ],
   "source": [
    "import pandas as pd\n",
    "\n",
    "results_df = pd.DataFrame.from_dict(grid_search.cv_results)\n",
    "results_df"
   ]
  },
  {
   "cell_type": "code",
   "execution_count": 5,
   "metadata": {},
   "outputs": [
    {
     "name": "stderr",
     "output_type": "stream",
     "text": [
      "/anaconda/lib/python3.6/site-packages/surprise/prediction_algorithms/algo_base.py:51: UserWarning: train() is deprecated. Use fit() instead\n",
      "  warnings.warn('train() is deprecated. Use fit() instead', UserWarning)\n"
     ]
    },
    {
     "name": "stdout",
     "output_type": "stream",
     "text": [
      "Estimating biases using als...\n",
      "Computing the pearson_baseline similarity matrix...\n",
      "Done computing similarity matrix.\n"
     ]
    },
    {
     "data": {
      "text/plain": [
       "<surprise.prediction_algorithms.knns.KNNBaseline at 0x1132a3b38>"
      ]
     },
     "execution_count": 5,
     "metadata": {},
     "output_type": "execute_result"
    }
   ],
   "source": [
    "from __future__ import (absolute_import, division, print_function, unicode_literals)\n",
    "import os\n",
    "import io\n",
    "from surprise import KNNBaseline\n",
    "from surprise import Dataset\n",
    "\n",
    "def read_item_names():\n",
    "    file_name = ('./ml-100k/u.item')\n",
    "    rid_to_name = {}\n",
    "    name_to_rid = {}\n",
    "    \n",
    "    with io.open(file_name, 'r', encoding='ISO-8859-1') as f:\n",
    "        for line in f:\n",
    "            line = line.split('|')\n",
    "            rid_to_name[line[0]] = line[1]\n",
    "            name_to_rid[line[1]] = line[0]\n",
    "            \n",
    "    return rid_to_name, name_to_rid\n",
    "\n",
    "data = Dataset.load_builtin('ml-100k')\n",
    "trainset = data.build_full_trainset()\n",
    "sim_options = {'name': 'pearson_baseline', 'user_based': False}\n",
    "algo = KNNBaseline(sim_options=sim_options)\n",
    "algo.train(trainset)"
   ]
  },
  {
   "cell_type": "code",
   "execution_count": 6,
   "metadata": {},
   "outputs": [
    {
     "data": {
      "text/plain": [
       "'1053'"
      ]
     },
     "execution_count": 6,
     "metadata": {},
     "output_type": "execute_result"
    }
   ],
   "source": [
    "rid_to_name, name_to_rid = read_item_names()\n",
    "\n",
    "toy_story_raw_id = name_to_rid['Now and Then (1995)']\n",
    "toy_story_raw_id"
   ]
  },
  {
   "cell_type": "code",
   "execution_count": 7,
   "metadata": {},
   "outputs": [
    {
     "data": {
      "text/plain": [
       "961"
      ]
     },
     "execution_count": 7,
     "metadata": {},
     "output_type": "execute_result"
    }
   ],
   "source": [
    "toy_story_inner_id = algo.trainset.to_inner_iid(toy_story_raw_id)\n",
    "toy_story_inner_id"
   ]
  },
  {
   "cell_type": "code",
   "execution_count": 8,
   "metadata": {},
   "outputs": [
    {
     "data": {
      "text/plain": [
       "[291, 82, 366, 528, 179, 101, 556, 310, 431, 543]"
      ]
     },
     "execution_count": 8,
     "metadata": {},
     "output_type": "execute_result"
    }
   ],
   "source": [
    "toy_story_neighbors = algo.get_neighbors(toy_story_inner_id, k=10)\n",
    "toy_story_neighbors"
   ]
  },
  {
   "cell_type": "code",
   "execution_count": 9,
   "metadata": {},
   "outputs": [
    {
     "name": "stdout",
     "output_type": "stream",
     "text": [
      "The 10 nearest neighbors of Toy Story are:\n",
      "While You Were Sleeping (1995)\n",
      "Batman (1989)\n",
      "Dave (1993)\n",
      "Mrs. Doubtfire (1993)\n",
      "Groundhog Day (1993)\n",
      "Raiders of the Lost Ark (1981)\n",
      "Maverick (1994)\n",
      "French Kiss (1995)\n",
      "Stand by Me (1986)\n",
      "Net, The (1995)\n"
     ]
    }
   ],
   "source": [
    "iid_list = []\n",
    "for inner_id in toy_story_neighbors:\n",
    "    iid_list.append(algo.trainset.to_raw_iid(inner_id) )\n",
    "\n",
    "result = []\n",
    "for rid in iid_list:\n",
    "    result.append(rid_to_name[rid])\n",
    "\n",
    "print('The 10 nearest neighbors of Toy Story are:')\n",
    "for movie in result:\n",
    "    print(movie)"
   ]
  }
 ],
 "metadata": {
  "kernelspec": {
   "display_name": "Python 3",
   "language": "python",
   "name": "python3"
  },
  "language_info": {
   "codemirror_mode": {
    "name": "ipython",
    "version": 3
   },
   "file_extension": ".py",
   "mimetype": "text/x-python",
   "name": "python",
   "nbconvert_exporter": "python",
   "pygments_lexer": "ipython3",
   "version": "3.6.1"
  }
 },
 "nbformat": 4,
 "nbformat_minor": 2
}
