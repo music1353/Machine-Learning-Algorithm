{
 "cells": [
  {
   "cell_type": "code",
   "execution_count": 1,
   "metadata": {},
   "outputs": [
    {
     "data": {
      "text/plain": [
       "3.5"
      ]
     },
     "execution_count": 1,
     "metadata": {},
     "output_type": "execute_result"
    }
   ],
   "source": [
    "# load data\n",
    "from data import critics\n",
    "critics['Lisa Rose']['Snakes on a Plane']"
   ]
  },
  {
   "cell_type": "markdown",
   "metadata": {},
   "source": [
    "### 尋找相似用戶"
   ]
  },
  {
   "cell_type": "code",
   "execution_count": 2,
   "metadata": {
    "collapsed": true
   },
   "outputs": [],
   "source": [
    "# 歐式距離\n",
    "from math import sqrt\n",
    "\n",
    "# return a distance-based similarity score for person1 and person2\n",
    "def os_distance(data, p1, p2):\n",
    "    # get the list of shared_items\n",
    "    si = {}\n",
    "    for item in data[p1]:\n",
    "        if item in data[p2]:\n",
    "            si[item] = 1 \n",
    "            \n",
    "    # if they have no ratings in common, return 0\n",
    "    if len(si)==0:\n",
    "        return 0\n",
    "    \n",
    "    sum_of_squares = sum([pow(data[p1][item]-data[p2][item], 2)\n",
    "                         for item in data[p1] if item in data[p2]])\n",
    "    \n",
    "    return 1/(1+sum_of_squares)"
   ]
  },
  {
   "cell_type": "code",
   "execution_count": 3,
   "metadata": {},
   "outputs": [
    {
     "data": {
      "text/plain": [
       "0.14814814814814814"
      ]
     },
     "execution_count": 3,
     "metadata": {},
     "output_type": "execute_result"
    }
   ],
   "source": [
    "os_distance(critics, 'Lisa Rose', 'Gene Seymour')"
   ]
  },
  {
   "cell_type": "code",
   "execution_count": 4,
   "metadata": {
    "collapsed": true
   },
   "outputs": [],
   "source": [
    "# 皮爾森相關係數\n",
    "\n",
    "def sim_pearson(data, p1, p2):\n",
    "    # get the list of shared_items\n",
    "    si = {}\n",
    "    for item in data[p1]:\n",
    "        if item in data[p2]:\n",
    "            si[item] = 1\n",
    "    \n",
    "    # sum calculations\n",
    "    n = len(si)\n",
    "    \n",
    "    # sums of all the data\n",
    "    sum1 = sum([data[p1][it] for it in si])\n",
    "    sum2 = sum([data[p2][it] for it in si])\n",
    "    \n",
    "    # sums of the squares\n",
    "    sum1Sq = sum([pow(data[p1][it], 2) for it in si])\n",
    "    sum2Sq = sum([pow(data[p2][it], 2) for it in si])\n",
    "    \n",
    "    # sum of the products\n",
    "    pSum = sum([data[p1][it]*data[p2][it] for it in si])\n",
    "    \n",
    "    # calculate r(相似度)\n",
    "    num = pSum - (sum1*sum2/n)\n",
    "    den = sqrt((sum1Sq-pow(sum1, 2)/n)*(sum2Sq-pow(sum2, 2)/n))\n",
    "    if den==0: return 0\n",
    "    \n",
    "    r = num/den\n",
    "    return r"
   ]
  },
  {
   "cell_type": "code",
   "execution_count": 5,
   "metadata": {},
   "outputs": [
    {
     "data": {
      "text/plain": [
       "0.39605901719066977"
      ]
     },
     "execution_count": 5,
     "metadata": {},
     "output_type": "execute_result"
    }
   ],
   "source": [
    "sim_pearson(critics, 'Lisa Rose', 'Gene Seymour')"
   ]
  },
  {
   "cell_type": "markdown",
   "metadata": {},
   "source": [
    "### User CF"
   ]
  },
  {
   "cell_type": "code",
   "execution_count": 6,
   "metadata": {},
   "outputs": [],
   "source": [
    "# 推薦評論者（與此用戶評論最相似的）\n",
    "\n",
    "def topMatches(data, person, n=5, similarity=sim_pearson):\n",
    "    scores = []\n",
    "    \n",
    "    for other in data:\n",
    "        if other!=person:\n",
    "            other_sim = (similarity(data, person, other), other)\n",
    "            scores.append(other_sim)\n",
    "        \n",
    "    scores.sort()\n",
    "    scores.reverse()\n",
    "    \n",
    "    return scores[0: n]"
   ]
  },
  {
   "cell_type": "code",
   "execution_count": 7,
   "metadata": {},
   "outputs": [
    {
     "data": {
      "text/plain": [
       "[(0.9912407071619299, 'Lisa Rose'),\n",
       " (0.9244734516419049, 'Mick LaSalle'),\n",
       " (0.8934051474415647, 'Claudia Puig'),\n",
       " (0.66284898035987, 'Jack Matthews'),\n",
       " (0.38124642583151164, 'Gene Seymour')]"
      ]
     },
     "execution_count": 7,
     "metadata": {},
     "output_type": "execute_result"
    }
   ],
   "source": [
    "topMatches(critics, 'Toby')"
   ]
  },
  {
   "cell_type": "code",
   "execution_count": 8,
   "metadata": {
    "collapsed": true
   },
   "outputs": [],
   "source": [
    "# 推薦影片，通過一個經過加權的評價值來打分\n",
    "# 返回所有他人評分的加權平均、標準化集排序後的列表，並推薦給對應的影評者\n",
    "# 最終評分算法：r = ∑data*sim/∑simSums\n",
    "\n",
    "def getRecommendations(data, person, similarity=sim_pearson):\n",
    "    totals = {}\n",
    "    simSums = {}\n",
    "    \n",
    "    for other in data:\n",
    "        if other==person:\n",
    "            continue\n",
    "        \n",
    "        sim = similarity(data, person, other)\n",
    "        \n",
    "        if sim<=0:\n",
    "            continue\n",
    "            \n",
    "        for item in data[other]:\n",
    "            # only score movies I haven't seen yet\n",
    "            if item not in data[person] or data[person][item]==0:\n",
    "                # similarity * Score\n",
    "                totals.setdefault(item, 0)\n",
    "                totals[item] += data[other][item]*sim\n",
    "                \n",
    "                # sum of similarities\n",
    "                simSums.setdefault(item, 0)\n",
    "                simSums[item] += sim\n",
    "                \n",
    "    # create the normalized list\n",
    "    rankings = []\n",
    "    for item, total in totals.items():\n",
    "        rank = (total/simSums[item], item)\n",
    "        rankings.append(rank)\n",
    "        \n",
    "    # return the sorted list\n",
    "    rankings.sort()\n",
    "    rankings.reverse()\n",
    "    return rankings"
   ]
  },
  {
   "cell_type": "code",
   "execution_count": 9,
   "metadata": {},
   "outputs": [
    {
     "data": {
      "text/plain": [
       "[(3.3477895267131017, 'The Night Listener'),\n",
       " (2.8325499182641614, 'Lady in the Water'),\n",
       " (2.530980703765565, 'Just My Luck')]"
      ]
     },
     "execution_count": 9,
     "metadata": {},
     "output_type": "execute_result"
    }
   ],
   "source": [
    "getRecommendations(critics, 'Toby')"
   ]
  },
  {
   "cell_type": "markdown",
   "metadata": {},
   "source": [
    "### Item CF\n",
    "<p>當沒有蒐集到關於用戶的足夠資訊時，可以通過查看哪些人喜歡某ㄧ特定物品，以及這些人喜歡哪些其他物品來決定相似度。因此只需將之前字典裡的人與物品進行對換，就可以復用之前相關方法</p>"
   ]
  },
  {
   "cell_type": "code",
   "execution_count": 10,
   "metadata": {
    "collapsed": true
   },
   "outputs": [],
   "source": [
    "# 字典內的人語物品對換\n",
    "\n",
    "def transformData(data):\n",
    "    result = {}\n",
    "    for person in data:\n",
    "        for item in data[person]:\n",
    "            result.setdefault(item, {})\n",
    "            result[item][person] = data[person][item]\n",
    "            \n",
    "    return result"
   ]
  },
  {
   "cell_type": "code",
   "execution_count": 11,
   "metadata": {},
   "outputs": [
    {
     "data": {
      "text/plain": [
       "[(0.5555555555555556, 'Just My Luck'),\n",
       " (-0.1798471947990544, 'Superman Returns'),\n",
       " (-0.250000000000002, 'You, Me and Dupree'),\n",
       " (-0.5663521139548527, 'Snakes on a Plane'),\n",
       " (-0.6123724356957927, 'Lady in the Water')]"
      ]
     },
     "execution_count": 11,
     "metadata": {},
     "output_type": "execute_result"
    }
   ],
   "source": [
    "# 推薦電影\n",
    "\n",
    "movies = transformData(critics)\n",
    "topMatches(movies, 'The Night Listener')"
   ]
  },
  {
   "cell_type": "code",
   "execution_count": 12,
   "metadata": {},
   "outputs": [
    {
     "data": {
      "text/plain": [
       "[(3.1637361366111816, 'Michael Phillips')]"
      ]
     },
     "execution_count": 12,
     "metadata": {},
     "output_type": "execute_result"
    }
   ],
   "source": [
    "# 推薦評論者，推薦合乎該品味的評論者\n",
    "getRecommendations(movies, 'You, Me and Dupree')"
   ]
  }
 ],
 "metadata": {
  "kernelspec": {
   "display_name": "Python 3",
   "language": "python",
   "name": "python3"
  },
  "language_info": {
   "codemirror_mode": {
    "name": "ipython",
    "version": 3
   },
   "file_extension": ".py",
   "mimetype": "text/x-python",
   "name": "python",
   "nbconvert_exporter": "python",
   "pygments_lexer": "ipython3",
   "version": "3.6.1"
  }
 },
 "nbformat": 4,
 "nbformat_minor": 2
}
